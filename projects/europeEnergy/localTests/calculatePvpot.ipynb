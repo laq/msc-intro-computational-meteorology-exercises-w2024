{
 "cells": [
  {
   "cell_type": "code",
   "execution_count": 3,
   "id": "ba63f58e-3570-4080-9361-d4746b548632",
   "metadata": {},
   "outputs": [],
   "source": [
    "import xarray as xr\n",
    "import numpy as np\n",
    "import matplotlib.pyplot as plt\n",
    "import time\n",
    "from dask.distributed import Client\n",
    "import core as core\n",
    "\n",
    "import warnings\n",
    "warnings.filterwarnings(\"ignore\")"
   ]
  },
  {
   "cell_type": "code",
   "execution_count": null,
   "id": "da84b55b-f131-4481-853b-6707fc06e351",
   "metadata": {},
   "outputs": [],
   "source": [
    "\n",
    "def get_files(years, months):\n",
    "    files = []\n",
    "    files = [f\"era5-{year}-{month:02}.nc\" for year in years for month in months]\n",
    "    files_path = [path+f for f in files]\n",
    "print(f\"Load data for {years=} {months=}\")\n",
    "files_path"
   ]
  }
 ],
 "metadata": {
  "kernelspec": {
   "display_name": "Python 3 (ipykernel)",
   "language": "python",
   "name": "python3"
  },
  "language_info": {
   "codemirror_mode": {
    "name": "ipython",
    "version": 3
   },
   "file_extension": ".py",
   "mimetype": "text/x-python",
   "name": "python",
   "nbconvert_exporter": "python",
   "pygments_lexer": "ipython3",
   "version": "3.11.10"
  }
 },
 "nbformat": 4,
 "nbformat_minor": 5
}
