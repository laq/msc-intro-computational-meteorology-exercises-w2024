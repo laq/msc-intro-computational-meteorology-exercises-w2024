{
 "cells": [
  {
   "cell_type": "code",
   "execution_count": 1,
   "id": "fc7bc91d-17cf-49a0-9c19-a4ce9fcd0fd4",
   "metadata": {},
   "outputs": [],
   "source": [
    "gwh = 1869531\n",
    "wh = gwh * 1e9"
   ]
  },
  {
   "cell_type": "code",
   "execution_count": 5,
   "id": "a941c9ac-634c-409a-b8dd-641d67f38b3a",
   "metadata": {},
   "outputs": [
    {
     "name": "stdout",
     "output_type": "stream",
     "text": [
      "1.869531e+00 Petta\n"
     ]
    }
   ],
   "source": [
    "print(f\"{wh/1e15:e} Petta\")"
   ]
  },
  {
   "cell_type": "code",
   "execution_count": 1,
   "id": "1bda4501-ff51-43fa-8954-638cbff1682c",
   "metadata": {},
   "outputs": [],
   "source": [
    "import pint"
   ]
  }
 ],
 "metadata": {
  "kernelspec": {
   "display_name": "MagicPy",
   "language": "python",
   "name": "magicpy"
  },
  "language_info": {
   "codemirror_mode": {
    "name": "ipython",
    "version": 3
   },
   "file_extension": ".py",
   "mimetype": "text/x-python",
   "name": "python",
   "nbconvert_exporter": "python",
   "pygments_lexer": "ipython3",
   "version": "3.10.6"
  }
 },
 "nbformat": 4,
 "nbformat_minor": 5
}
